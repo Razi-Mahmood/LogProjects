{
 "cells": [
  {
   "cell_type": "code",
   "execution_count": null,
   "metadata": {},
   "outputs": [],
   "source": [
    "%reload_ext autoreload\n",
    "#%load_ext autoreload\n",
    "%autoreload 2"
   ]
  },
  {
   "cell_type": "code",
   "execution_count": null,
   "metadata": {},
   "outputs": [],
   "source": [
    "#Code to process the logs and encode it as a SBERT vector"
   ]
  },
  {
   "cell_type": "code",
   "execution_count": 16,
   "metadata": {},
   "outputs": [],
   "source": [
    "\n",
    "from process.logprocess import LogProcess\n",
    "from process.encode import BERT_Encode"
   ]
  },
  {
   "cell_type": "code",
   "execution_count": 29,
   "metadata": {},
   "outputs": [],
   "source": [
    "original_logs=\"./data/HDFS_100k.log_structured.csv\"\n",
    "anomaly_blockfile=\"./data/anomaly_label.csv\"\n",
    "normalencodingheader=\"./data/encoding/HDFS_100k2/normal\"\n",
    "abnormalencodingheader=\"./data/encoding/HDFS_100k2/abnormal\"\n",
    "normalencodingevtheader=\"./data/encoding/HDFS_100k2/normalevt\"\n",
    "abnormalencodingevtheader=\"./data/encoding/HDFS_100k2/abnormalevt\""
   ]
  },
  {
   "cell_type": "code",
   "execution_count": 18,
   "metadata": {},
   "outputs": [],
   "source": [
    "lp=LogProcess()\n",
    "be=BERT_Encode()"
   ]
  },
  {
   "cell_type": "code",
   "execution_count": 4,
   "metadata": {},
   "outputs": [
    {
     "name": "stdout",
     "output_type": "stream",
     "text": [
      "Total blocks =  575061\n"
     ]
    }
   ],
   "source": [
    "block_label_map=lp.read_anomaly_blockids(anomaly_blockfile)"
   ]
  },
  {
   "cell_type": "code",
   "execution_count": 19,
   "metadata": {},
   "outputs": [
    {
     "name": "stdout",
     "output_type": "stream",
     "text": [
      "Total blocks =  7940 7940\n"
     ]
    }
   ],
   "source": [
    "content_map,event_map=lp.read_full_dataset(original_logs)"
   ]
  },
  {
   "cell_type": "code",
   "execution_count": 24,
   "metadata": {},
   "outputs": [
    {
     "name": "stdout",
     "output_type": "stream",
     "text": [
      "Normal blocks =  7627 7627 7627 abnormal blocks = 313 313 313 total =  7940 7940\n"
     ]
    }
   ],
   "source": [
    "#normal_map,normal_blkids,abnormal_map,abnormal_blkids=lp.separate_normal_abnormal_blocks(content_map,block_label_map)\n",
    "normal_map,normal_blkids,abnormal_map,abnormal_blkids,normal_evtmap,abnormal_evtmap=lp.separate_normal_abnormal_blocks(content_map,event_map,block_label_map)\n"
   ]
  },
  {
   "cell_type": "code",
   "execution_count": 21,
   "metadata": {},
   "outputs": [],
   "source": [
    "#for blkid in event_map:\n",
    "   # print(blkid,event_map[blkid])"
   ]
  },
  {
   "cell_type": "code",
   "execution_count": 28,
   "metadata": {},
   "outputs": [
    {
     "name": "stdout",
     "output_type": "stream",
     "text": [
      "current items =  7627 7627 7627\n",
      "retained items =  1526 1526\n",
      "current items =  313 313 313\n",
      "retained items =  63 63\n",
      "Normal train test  6101 1526 6101 1526\n",
      "Abnormal train test  250 63 250 63\n"
     ]
    }
   ],
   "source": [
    "xtrain_normal,xtest_normal,xtrain_abnormal,xtest_abnormal,xtrain_normal_evt,xtest_normal_evt,xtrain_abnormal_evt,xtest_abnormal_evt=lp.random_partition(normal_map,normal_blkids,normal_evtmap,abnormal_map,abnormal_blkids,abnormal_evtmap,0.2,\"/Users/aa/envpytorch/pytorchprojects/LogProjects/data/encoding/HDFS_100k2/\")"
   ]
  },
  {
   "cell_type": "code",
   "execution_count": 34,
   "metadata": {},
   "outputs": [
    {
     "name": "stdout",
     "output_type": "stream",
     "text": [
      "0\n",
      "100\n",
      "200\n",
      "300\n",
      "97.74505996704102  seconds 13\n"
     ]
    }
   ],
   "source": [
    "#be.save_selected_log_embedding(abnormal_blkids,abnormal_map,be.bertmodel,100,768,abnormalencodingheader)\n",
    "be.save_selected_log_embedding(abnormal_blkids,abnormal_map,be.bertmodel,100,768,abnormalencodingheader,abnormal_evtmap,abnormalencodingevtheader)\n",
    "\n",
    "# using BERT encoder to embed the log files"
   ]
  },
  {
   "cell_type": "code",
   "execution_count": 59,
   "metadata": {},
   "outputs": [
    {
     "name": "stdout",
     "output_type": "stream",
     "text": [
      "10.450479233226837\n",
      "313\n"
     ]
    }
   ],
   "source": [
    "avg=0\n",
    "for blkid in abnormal_blkids:\n",
    "    #print(blkid,\"\\t\",normal_evtmap[blkid])\n",
    "    avg+=len(abnormal_evtmap[blkid])\n",
    "avg/=len(abnormal_blkids)\n",
    "print(avg)\n",
    "print(len(abnormal_blkids))"
   ]
  },
  {
   "cell_type": "code",
   "execution_count": 39,
   "metadata": {},
   "outputs": [
    {
     "name": "stdout",
     "output_type": "stream",
     "text": [
      "blk_2013325748856732111 \t ['E5', 'E22', 'E5', 'E5', 'E11', 'E9', 'E11', 'E9', 'E26', 'E26', 'E11', 'E9', 'E26', 'E2']\n",
      "blk_7409100024045179646 \t ['E5', 'E22', 'E5', 'E5', 'E11', 'E9', 'E11', 'E9', 'E11', 'E9', 'E26', 'E26', 'E26', 'E2']\n",
      "blk_872694497849122755 \t ['E5', 'E22', 'E5', 'E5', 'E11', 'E9', 'E11', 'E9', 'E11', 'E9', 'E26', 'E26', 'E26', 'E2', 'E2']\n"
     ]
    }
   ],
   "source": [
    "#for blkid in abnormal_blkids:\n",
    "blkid=\"blk_2013325748856732111\"\n",
    "print(blkid,\"\\t\",abnormal_evtmap[blkid])\n",
    "blkid=\"blk_7409100024045179646\"\n",
    "print(blkid,\"\\t\",abnormal_evtmap[blkid])\n",
    "blkid=\"blk_872694497849122755\"\n",
    "print(blkid,\"\\t\",abnormal_evtmap[blkid])"
   ]
  },
  {
   "cell_type": "code",
   "execution_count": 40,
   "metadata": {},
   "outputs": [
    {
     "name": "stdout",
     "output_type": "stream",
     "text": [
      "0\n",
      "100\n",
      "200\n",
      "300\n",
      "400\n",
      "500\n",
      "600\n",
      "700\n",
      "800\n",
      "900\n",
      "1000\n",
      "1100\n",
      "1200\n",
      "1300\n",
      "1400\n",
      "1500\n",
      "1600\n",
      "1700\n",
      "1800\n",
      "1900\n",
      "2000\n",
      "2100\n",
      "2200\n",
      "2300\n",
      "2400\n",
      "2500\n",
      "2600\n",
      "2700\n",
      "2800\n",
      "2900\n",
      "3000\n",
      "3100\n",
      "3200\n",
      "3300\n",
      "3400\n",
      "3500\n",
      "3600\n",
      "3700\n",
      "3800\n",
      "3900\n",
      "4000\n",
      "4100\n",
      "4200\n",
      "4300\n",
      "4400\n",
      "4500\n",
      "4600\n",
      "4700\n",
      "4800\n",
      "4900\n",
      "5000\n",
      "5100\n",
      "5200\n",
      "5300\n",
      "5400\n",
      "5500\n",
      "5600\n",
      "5700\n",
      "5800\n",
      "5900\n",
      "6000\n",
      "6100\n",
      "6200\n",
      "6300\n",
      "6400\n",
      "6500\n",
      "6600\n",
      "6700\n",
      "6800\n",
      "6900\n",
      "7000\n",
      "7100\n",
      "7200\n",
      "7300\n",
      "7400\n",
      "7500\n",
      "7600\n",
      "2558.642436981201  seconds 27\n"
     ]
    }
   ],
   "source": [
    "#be.save_selected_log_embedding(normal_blkids,normal_map,be.bertmodel,100,768,normalencodingheader)\n",
    "be.save_selected_log_embedding(normal_blkids,normal_map,be.bertmodel,100,768,normalencodingheader,normal_evtmap,normalencodingevtheader)\n"
   ]
  },
  {
   "cell_type": "code",
   "execution_count": 45,
   "metadata": {},
   "outputs": [
    {
     "name": "stdout",
     "output_type": "stream",
     "text": [
      "blk_7503483334202473044\n",
      "['Receiving block blk_7503483334202473044 src: /10.251.215.16:55695 dest: /10.251.215.16:50010', 'Receiving block blk_7503483334202473044 src: /10.250.19.102:34232 dest: /10.250.19.102:50010', 'BLOCK* NameSystem.allocateBlock: /mnt/hadoop/mapred/system/job_200811092030_0001/job.split. blk_7503483334202473044', 'Receiving block blk_7503483334202473044 src: /10.251.71.16:51590 dest: /10.251.71.16:50010', 'PacketResponder 1 for block blk_7503483334202473044 terminating', 'Received block blk_7503483334202473044 of size 233217 from /10.251.215.16', 'PacketResponder 0 for block blk_7503483334202473044 terminating', 'Received block blk_7503483334202473044 of size 233217 from /10.251.71.16', 'PacketResponder 2 for block blk_7503483334202473044 terminating', 'Received block blk_7503483334202473044 of size 233217 from /10.250.19.102', 'BLOCK* NameSystem.addStoredBlock: blockMap updated: 10.251.106.10:50010 is added to blk_7503483334202473044 size 233217', 'BLOCK* NameSystem.addStoredBlock: blockMap updated: 10.251.215.16:50010 is added to blk_7503483334202473044 size 233217', 'BLOCK* NameSystem.addStoredBlock: blockMap updated: 10.251.71.16:50010 is added to blk_7503483334202473044 size 233217', '10.251.215.16:50010 Served block blk_7503483334202473044 to /10.250.19.102', 'Verification succeeded for blk_7503483334202473044', 'Verification succeeded for blk_7503483334202473044']\n"
     ]
    }
   ],
   "source": [
    "i=0\n",
    "for blk in content_map:\n",
    "    if (i==1):\n",
    "        print(blk)\n",
    "        print(content_map[blk])\n",
    "    i+=1\n"
   ]
  },
  {
   "cell_type": "code",
   "execution_count": 54,
   "metadata": {},
   "outputs": [
    {
     "data": {
      "text/plain": [
       "16"
      ]
     },
     "execution_count": 54,
     "metadata": {},
     "output_type": "execute_result"
    }
   ],
   "source": [
    "len(content_map['blk_-8531310335568756456'])\n",
    "len(content_map['blk_7503483334202473044'])"
   ]
  },
  {
   "cell_type": "code",
   "execution_count": 51,
   "metadata": {},
   "outputs": [
    {
     "name": "stdout",
     "output_type": "stream",
     "text": [
      "E5,E5,E22,E5,E11,E9,E11,E9,E11,E9,E26,E26,E26,E3,E2,E2\n"
     ]
    }
   ],
   "source": [
    "\n",
    "\n",
    "evtarray=normal_evtmap['blk_7503483334202473044']\n",
    "s1=None\n",
    "for evt in evtarray:\n",
    "    if (s1 is None):\n",
    "        s1=evt\n",
    "    else:\n",
    "        s1+=\",\"+evt\n",
    "print(s1)"
   ]
  },
  {
   "cell_type": "code",
   "execution_count": 52,
   "metadata": {},
   "outputs": [
    {
     "name": "stdout",
     "output_type": "stream",
     "text": [
      "E5,E22,E5,E5,E11,E9,E11,E9,E11,E9,E26,E26,E26,E2,E2\n"
     ]
    }
   ],
   "source": [
    "evtarray=abnormal_evtmap['blk_-8531310335568756456']\n",
    "s1=None\n",
    "for evt in evtarray:\n",
    "    if (s1 is None):\n",
    "        s1=evt\n",
    "    else:\n",
    "        s1+=\",\"+evt\n",
    "print(s1)\n"
   ]
  },
  {
   "cell_type": "code",
   "execution_count": null,
   "metadata": {},
   "outputs": [],
   "source": [
    "lp.write_blockids(xtrain_normal,\"/Users/aa/envpytorch/pytorchprojects/LogProjects/data/encoding/HDFS_100k2/xtrain_normal.txt\")\n",
    "lp.write_blockids(xtest_normal,\"/Users/aa/envpytorch/pytorchprojects/LogProjects/data/encoding/HDFS_100k2/xtest_normal.txt\")\n",
    "lp.write_blockids(xtrain_abnormal,\"/Users/aa/envpytorch/pytorchprojects/LogProjects/data/encoding/HDFS_100k2/xtrain_abnormal.txt\")\n",
    "lp.write_blockids(xtest_abnormal,\"/Users/aa/envpytorch/pytorchprojects/LogProjects/data/encoding/HDFS_100k2/xtest_abnormal.txt\")"
   ]
  }
 ],
 "metadata": {
  "kernelspec": {
   "display_name": "pytorchprojects",
   "language": "python",
   "name": "pytorchprojects"
  },
  "language_info": {
   "codemirror_mode": {
    "name": "ipython",
    "version": 3
   },
   "file_extension": ".py",
   "mimetype": "text/x-python",
   "name": "python",
   "nbconvert_exporter": "python",
   "pygments_lexer": "ipython3",
   "version": "3.7.6"
  }
 },
 "nbformat": 4,
 "nbformat_minor": 5
}
